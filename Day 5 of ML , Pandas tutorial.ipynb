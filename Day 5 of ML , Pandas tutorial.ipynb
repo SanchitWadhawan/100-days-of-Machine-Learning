{
 "cells": [
  {
   "cell_type": "markdown",
   "id": "09f598d9",
   "metadata": {},
   "source": [
    "# Pandas tutorial"
   ]
  },
  {
   "cell_type": "markdown",
   "id": "b8f92a07",
   "metadata": {},
   "source": [
    "Pandas is an open-source, BSD-licensed Python library providing high-performance, easy-to-use data structures and data analysis tools for the Python programming language. Python with Pandas is used in a wide range of fields including academic and commercial domains including finance, economics, Statistics, analytics, etc. In this tutorial, we will learn the various features of Python Pandas and how to use them in practice.\n",
    "\n",
    "Using Pandas, we can accomplish five typical steps in the processing and analysis of data, regardless of the origin of data — load, prepare, manipulate, model, and analyze."
   ]
  },
  {
   "cell_type": "markdown",
   "id": "e5cc45bd",
   "metadata": {},
   "source": [
    "Benifits:-\n",
    "1) Flexibility of Python\n",
    "2) Big DataSets in Use"
   ]
  },
  {
   "cell_type": "markdown",
   "id": "255fb325",
   "metadata": {},
   "source": [
    "#### Find the datset in the repository by name pokemon.csv"
   ]
  },
  {
   "cell_type": "code",
   "execution_count": 1,
   "id": "b63c0afe",
   "metadata": {},
   "outputs": [],
   "source": [
    "#loding data into editor"
   ]
  },
  {
   "cell_type": "code",
   "execution_count": 6,
   "id": "e1433def",
   "metadata": {},
   "outputs": [
    {
     "name": "stdout",
     "output_type": "stream",
     "text": [
      "       #                   Name   Type 1  Type 2  HP  Attack  Defense  \\\n",
      "0      1              Bulbasaur    Grass  Poison  45      49       49   \n",
      "1      2                Ivysaur    Grass  Poison  60      62       63   \n",
      "2      3               Venusaur    Grass  Poison  80      82       83   \n",
      "3      3  VenusaurMega Venusaur    Grass  Poison  80     100      123   \n",
      "4      4             Charmander     Fire     NaN  39      52       43   \n",
      "..   ...                    ...      ...     ...  ..     ...      ...   \n",
      "795  719                Diancie     Rock   Fairy  50     100      150   \n",
      "796  719    DiancieMega Diancie     Rock   Fairy  50     160      110   \n",
      "797  720    HoopaHoopa Confined  Psychic   Ghost  80     110       60   \n",
      "798  720     HoopaHoopa Unbound  Psychic    Dark  80     160       60   \n",
      "799  721              Volcanion     Fire   Water  80     110      120   \n",
      "\n",
      "     Sp. Atk  Sp. Def  Speed  Generation  Legendary  \n",
      "0         65       65     45           1      False  \n",
      "1         80       80     60           1      False  \n",
      "2        100      100     80           1      False  \n",
      "3        122      120     80           1      False  \n",
      "4         60       50     65           1      False  \n",
      "..       ...      ...    ...         ...        ...  \n",
      "795      100      150     50           6       True  \n",
      "796      160      110    110           6       True  \n",
      "797      150      130     70           6       True  \n",
      "798      170      130     80           6       True  \n",
      "799      130       90     70           6       True  \n",
      "\n",
      "[800 rows x 12 columns]\n"
     ]
    }
   ],
   "source": [
    "import pandas as pd\n",
    "df = pd.read_csv('pokemon_data.csv')\n",
    "\n",
    "print(df)"
   ]
  },
  {
   "cell_type": "code",
   "execution_count": 6,
   "id": "59fb29a7",
   "metadata": {},
   "outputs": [
    {
     "name": "stdout",
     "output_type": "stream",
     "text": [
      "   #       Name Type 1  Type 2  HP  Attack  Defense  Sp. Atk  Sp. Def  Speed  \\\n",
      "0  1  Bulbasaur  Grass  Poison  45      49       49       65       65     45   \n",
      "1  2    Ivysaur  Grass  Poison  60      62       63       80       80     60   \n",
      "2  3   Venusaur  Grass  Poison  80      82       83      100      100     80   \n",
      "\n",
      "   Generation  Legendary  \n",
      "0           1      False  \n",
      "1           1      False  \n",
      "2           1      False  \n"
     ]
    }
   ],
   "source": [
    "#To specify the data from top and bottom use \n",
    "#you can mention the number of rows \n",
    "import pandas as pd\n",
    "df = pd.read_csv('pokemon_data.csv')\n",
    "print(df.head(3))\n",
    "#Slly you can use top but u need to write the three lines agin"
   ]
  },
  {
   "cell_type": "code",
   "execution_count": 7,
   "id": "6409c258",
   "metadata": {},
   "outputs": [],
   "source": [
    "#You can also export and read different files like excel file by simply using this\n",
    "\n",
    "#import pandas as pd\n",
    "#df_xlsx=pd.read_excel('pokemon_data.xls')\n",
    "#print (df_xlsx.head((3))"
   ]
  },
  {
   "cell_type": "code",
   "execution_count": 8,
   "id": "c45adec8",
   "metadata": {},
   "outputs": [
    {
     "name": "stdout",
     "output_type": "stream",
     "text": [
      "Index(['#', 'Name', 'Type 1', 'Type 2', 'HP', 'Attack', 'Defense', 'Sp. Atk',\n",
      "       'Sp. Def', 'Speed', 'Generation', 'Legendary'],\n",
      "      dtype='object')\n"
     ]
    }
   ],
   "source": [
    "#For knowing the attributes of the dataset \n",
    "print(df.columns)"
   ]
  },
  {
   "cell_type": "markdown",
   "id": "56e3356f",
   "metadata": {},
   "source": [
    "The conventional use of Pandas is for analyzing and manipulating data but not limited to the same. Pandas’ basic data structure includes series and Dataframe. Series is a one-dimensional array comprising of data items of any data type.\n",
    "\n",
    "Pandas Dataframe is a two-dimensional array consisting of data items of any data type. Pandas can also be identified as a combination of two or more Pandas Series objects"
   ]
  },
  {
   "cell_type": "code",
   "execution_count": 17,
   "id": "3364900c",
   "metadata": {},
   "outputs": [
    {
     "name": "stdout",
     "output_type": "stream",
     "text": [
      "0                Bulbasaur\n",
      "1                  Ivysaur\n",
      "2                 Venusaur\n",
      "3    VenusaurMega Venusaur\n",
      "4               Charmander\n",
      "Name: Name, dtype: object\n"
     ]
    }
   ],
   "source": [
    "#Read each column with specified intex\n",
    "print(df['Name'][0:5])"
   ]
  },
  {
   "cell_type": "markdown",
   "id": "73a9ceb9",
   "metadata": {},
   "source": [
    "## Sorting in Pandas"
   ]
  },
  {
   "cell_type": "code",
   "execution_count": 9,
   "id": "b0b04c98",
   "metadata": {},
   "outputs": [
    {
     "name": "stdout",
     "output_type": "stream",
     "text": [
      "       #                   Name   Type 1  Type 2  HP  Attack  Defense  \\\n",
      "0      1              Bulbasaur    Grass  Poison  45      49       49   \n",
      "1      2                Ivysaur    Grass  Poison  60      62       63   \n",
      "2      3               Venusaur    Grass  Poison  80      82       83   \n",
      "3      3  VenusaurMega Venusaur    Grass  Poison  80     100      123   \n",
      "4      4             Charmander     Fire     NaN  39      52       43   \n",
      "..   ...                    ...      ...     ...  ..     ...      ...   \n",
      "795  719                Diancie     Rock   Fairy  50     100      150   \n",
      "796  719    DiancieMega Diancie     Rock   Fairy  50     160      110   \n",
      "797  720    HoopaHoopa Confined  Psychic   Ghost  80     110       60   \n",
      "798  720     HoopaHoopa Unbound  Psychic    Dark  80     160       60   \n",
      "799  721              Volcanion     Fire   Water  80     110      120   \n",
      "\n",
      "     Sp. Atk  Sp. Def  Speed  Generation  Legendary  \n",
      "0         65       65     45           1      False  \n",
      "1         80       80     60           1      False  \n",
      "2        100      100     80           1      False  \n",
      "3        122      120     80           1      False  \n",
      "4         60       50     65           1      False  \n",
      "..       ...      ...    ...         ...        ...  \n",
      "795      100      150     50           6       True  \n",
      "796      160      110    110           6       True  \n",
      "797      150      130     70           6       True  \n",
      "798      170      130     80           6       True  \n",
      "799      130       90     70           6       True  \n",
      "\n",
      "[800 rows x 12 columns]\n"
     ]
    }
   ],
   "source": [
    "import pandas as pd\n",
    "df = pd.read_csv('pokemon_data.csv')\n",
    "df.sort_values(['Type 1', 'HP'], ascending=[1,0])\n",
    "\n",
    "print(df)"
   ]
  },
  {
   "cell_type": "markdown",
   "id": "c0c2e01a",
   "metadata": {},
   "source": [
    "## Making changes to the data"
   ]
  },
  {
   "cell_type": "code",
   "execution_count": 11,
   "id": "b0a0aac7",
   "metadata": {},
   "outputs": [
    {
     "data": {
      "text/html": [
       "<div>\n",
       "<style scoped>\n",
       "    .dataframe tbody tr th:only-of-type {\n",
       "        vertical-align: middle;\n",
       "    }\n",
       "\n",
       "    .dataframe tbody tr th {\n",
       "        vertical-align: top;\n",
       "    }\n",
       "\n",
       "    .dataframe thead th {\n",
       "        text-align: right;\n",
       "    }\n",
       "</style>\n",
       "<table border=\"1\" class=\"dataframe\">\n",
       "  <thead>\n",
       "    <tr style=\"text-align: right;\">\n",
       "      <th></th>\n",
       "      <th>#</th>\n",
       "      <th>Name</th>\n",
       "      <th>Type 1</th>\n",
       "      <th>Type 2</th>\n",
       "      <th>Total</th>\n",
       "      <th>HP</th>\n",
       "      <th>Attack</th>\n",
       "      <th>Defense</th>\n",
       "      <th>Sp. Atk</th>\n",
       "      <th>Sp. Def</th>\n",
       "      <th>Speed</th>\n",
       "      <th>Generation</th>\n",
       "      <th>Legendary</th>\n",
       "    </tr>\n",
       "  </thead>\n",
       "  <tbody>\n",
       "    <tr>\n",
       "      <th>0</th>\n",
       "      <td>1</td>\n",
       "      <td>Bulbasaur</td>\n",
       "      <td>Grass</td>\n",
       "      <td>Poison</td>\n",
       "      <td>318</td>\n",
       "      <td>45</td>\n",
       "      <td>49</td>\n",
       "      <td>49</td>\n",
       "      <td>65</td>\n",
       "      <td>65</td>\n",
       "      <td>45</td>\n",
       "      <td>1</td>\n",
       "      <td>False</td>\n",
       "    </tr>\n",
       "    <tr>\n",
       "      <th>1</th>\n",
       "      <td>2</td>\n",
       "      <td>Ivysaur</td>\n",
       "      <td>Grass</td>\n",
       "      <td>Poison</td>\n",
       "      <td>405</td>\n",
       "      <td>60</td>\n",
       "      <td>62</td>\n",
       "      <td>63</td>\n",
       "      <td>80</td>\n",
       "      <td>80</td>\n",
       "      <td>60</td>\n",
       "      <td>1</td>\n",
       "      <td>False</td>\n",
       "    </tr>\n",
       "    <tr>\n",
       "      <th>2</th>\n",
       "      <td>3</td>\n",
       "      <td>Venusaur</td>\n",
       "      <td>Grass</td>\n",
       "      <td>Poison</td>\n",
       "      <td>525</td>\n",
       "      <td>80</td>\n",
       "      <td>82</td>\n",
       "      <td>83</td>\n",
       "      <td>100</td>\n",
       "      <td>100</td>\n",
       "      <td>80</td>\n",
       "      <td>1</td>\n",
       "      <td>False</td>\n",
       "    </tr>\n",
       "    <tr>\n",
       "      <th>3</th>\n",
       "      <td>3</td>\n",
       "      <td>VenusaurMega Venusaur</td>\n",
       "      <td>Grass</td>\n",
       "      <td>Poison</td>\n",
       "      <td>625</td>\n",
       "      <td>80</td>\n",
       "      <td>100</td>\n",
       "      <td>123</td>\n",
       "      <td>122</td>\n",
       "      <td>120</td>\n",
       "      <td>80</td>\n",
       "      <td>1</td>\n",
       "      <td>False</td>\n",
       "    </tr>\n",
       "    <tr>\n",
       "      <th>4</th>\n",
       "      <td>4</td>\n",
       "      <td>Charmander</td>\n",
       "      <td>Fire</td>\n",
       "      <td>NaN</td>\n",
       "      <td>309</td>\n",
       "      <td>39</td>\n",
       "      <td>52</td>\n",
       "      <td>43</td>\n",
       "      <td>60</td>\n",
       "      <td>50</td>\n",
       "      <td>65</td>\n",
       "      <td>1</td>\n",
       "      <td>False</td>\n",
       "    </tr>\n",
       "  </tbody>\n",
       "</table>\n",
       "</div>"
      ],
      "text/plain": [
       "   #                   Name Type 1  Type 2  Total  HP  Attack  Defense  \\\n",
       "0  1              Bulbasaur  Grass  Poison    318  45      49       49   \n",
       "1  2                Ivysaur  Grass  Poison    405  60      62       63   \n",
       "2  3               Venusaur  Grass  Poison    525  80      82       83   \n",
       "3  3  VenusaurMega Venusaur  Grass  Poison    625  80     100      123   \n",
       "4  4             Charmander   Fire     NaN    309  39      52       43   \n",
       "\n",
       "   Sp. Atk  Sp. Def  Speed  Generation  Legendary  \n",
       "0       65       65     45           1      False  \n",
       "1       80       80     60           1      False  \n",
       "2      100      100     80           1      False  \n",
       "3      122      120     80           1      False  \n",
       "4       60       50     65           1      False  "
      ]
     },
     "execution_count": 11,
     "metadata": {},
     "output_type": "execute_result"
    }
   ],
   "source": [
    "#df['Total'] = df['HP'] + df['Attack'] + df['Defense'] + df['Sp. Atk'] + df['Sp. Def'] + df['Speed']\n",
    "\n",
    "# df = df.drop(columns=['Total'])\n",
    "\n",
    "df['Total'] = df.iloc[:, 4:10].sum(axis=1)\n",
    "\n",
    "cols = list(df.columns)\n",
    "df = df[cols[0:4] + [cols[-1]]+cols[4:12]]\n",
    "\n",
    "df.head(5)"
   ]
  },
  {
   "cell_type": "markdown",
   "id": "0950fe92",
   "metadata": {},
   "source": [
    "## Saving and exporting our data"
   ]
  },
  {
   "cell_type": "code",
   "execution_count": 14,
   "id": "e719b22b",
   "metadata": {},
   "outputs": [],
   "source": [
    "# df.to_csv('modified.csv', index=False)\n",
    "\n",
    "#df.to_excel('modified.xlsx', index=False)\n",
    "\n",
    "df.to_csv('modified.txt', index=False, sep='\\t')"
   ]
  },
  {
   "cell_type": "markdown",
   "id": "6989628b",
   "metadata": {},
   "source": [
    "## Filtering the Data"
   ]
  },
  {
   "cell_type": "code",
   "execution_count": 17,
   "id": "f4962002",
   "metadata": {},
   "outputs": [
    {
     "name": "stdout",
     "output_type": "stream",
     "text": [
      "     #                   Name Type 1  Type 2  Total   HP  Attack  Defense  \\\n",
      "0    3               Venusaur  Grass  Poison    525   80      82       83   \n",
      "1    3  VenusaurMega Venusaur  Grass  Poison    625   80     100      123   \n",
      "2   45              Vileplume  Grass  Poison    490   75      80       85   \n",
      "3   71             Victreebel  Grass  Poison    490   80     105       65   \n",
      "4  591              Amoonguss  Grass  Poison    464  114      85       70   \n",
      "\n",
      "   Sp. Atk  Sp. Def  Speed  Generation  Legendary  \n",
      "0      100      100     80           1      False  \n",
      "1      122      120     80           1      False  \n",
      "2      110       90     50           1      False  \n",
      "3      100       70     70           1      False  \n",
      "4       85       80     30           5      False  \n"
     ]
    }
   ],
   "source": [
    "new_df = df.loc[(df['Type 1'] == 'Grass') & (df['Type 2'] == 'Poison') & (df['HP'] > 70)]\n",
    "\n",
    "new_df.reset_index(drop=True, inplace=True)\n",
    "\n",
    "print(new_df)\n",
    "\n",
    "new_df.to_csv('filtered.csv')"
   ]
  },
  {
   "cell_type": "markdown",
   "id": "cc5251c1",
   "metadata": {},
   "source": [
    "## Agregate statistics (Grouping)"
   ]
  },
  {
   "cell_type": "code",
   "execution_count": 21,
   "id": "bfdd403a",
   "metadata": {},
   "outputs": [
    {
     "data": {
      "text/plain": [
       "Type 1  Type 2  \n",
       "Bug     Electric     2\n",
       "        Fighting     2\n",
       "        Fire         2\n",
       "        Flying      14\n",
       "        Ghost        1\n",
       "                    ..\n",
       "Water   Ice          3\n",
       "        Poison       3\n",
       "        Psychic      5\n",
       "        Rock         4\n",
       "        Steel        1\n",
       "Name: count, Length: 136, dtype: int64"
      ]
     },
     "execution_count": 21,
     "metadata": {},
     "output_type": "execute_result"
    }
   ],
   "source": [
    "import pandas as pd\n",
    "df = pd.read_csv('pokemon_data.csv')\n",
    "\n",
    "df['count'] = 1\n",
    "\n",
    "df.groupby(['Type 1', 'Type 2']).count()['count']"
   ]
  },
  {
   "cell_type": "markdown",
   "id": "84c4884e",
   "metadata": {},
   "source": [
    "## Working with large amounts of data"
   ]
  },
  {
   "cell_type": "code",
   "execution_count": 24,
   "id": "59e03a46",
   "metadata": {},
   "outputs": [],
   "source": [
    "new_df = pd.DataFrame(columns=df.columns)\n",
    "\n",
    "for df in pd.read_csv('pokemon_data.csv', chunksize=5):\n",
    "    results = df.groupby(['Type 1']).count()\n",
    "    \n",
    "    new_df = pd.concat([new_df, results])"
   ]
  },
  {
   "cell_type": "code",
   "execution_count": null,
   "id": "d629a2cb",
   "metadata": {},
   "outputs": [],
   "source": []
  }
 ],
 "metadata": {
  "kernelspec": {
   "display_name": "Python 3 (ipykernel)",
   "language": "python",
   "name": "python3"
  },
  "language_info": {
   "codemirror_mode": {
    "name": "ipython",
    "version": 3
   },
   "file_extension": ".py",
   "mimetype": "text/x-python",
   "name": "python",
   "nbconvert_exporter": "python",
   "pygments_lexer": "ipython3",
   "version": "3.9.7"
  }
 },
 "nbformat": 4,
 "nbformat_minor": 5
}
